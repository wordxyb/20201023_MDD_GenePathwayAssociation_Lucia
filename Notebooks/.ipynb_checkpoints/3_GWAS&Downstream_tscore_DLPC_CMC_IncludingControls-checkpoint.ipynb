{
 "cells": [
  {
   "cell_type": "markdown",
   "metadata": {},
   "source": [
    "in this analysis, we take into controls from ukbiobank"
   ]
  },
  {
   "cell_type": "markdown",
   "metadata": {},
   "source": [
    "# Read in Data"
   ]
  },
  {
   "cell_type": "code",
   "execution_count": 1,
   "metadata": {},
   "outputs": [
    {
     "name": "stderr",
     "output_type": "stream",
     "text": [
      "\n",
      "Attaching package: ‘dplyr’\n",
      "\n",
      "\n",
      "The following objects are masked from ‘package:stats’:\n",
      "\n",
      "    filter, lag\n",
      "\n",
      "\n",
      "The following objects are masked from ‘package:base’:\n",
      "\n",
      "    intersect, setdiff, setequal, union\n",
      "\n",
      "\n"
     ]
    }
   ],
   "source": [
    "path_base = \"/no-backup/lianyun/20201023_MDD_GenePathwayAssociation_Lucia\"\n",
    "path_lucia = paste0(path_base,\"/Data/Data_Lucia\")\n",
    "path_lh = paste0(path_base,\"/Data/Data_LH\")\n",
    "\n",
    "wdir = paste0(path_base,\"/1_LifetimeMDD/12_tscore_DLPC_CMC_IncludingControl\")\n",
    "setwd(wdir)\n",
    "\n",
    "source(\"/projects/biobank/release2/pheno/src/utilities.R\")"
   ]
  },
  {
   "cell_type": "code",
   "execution_count": 10,
   "metadata": {},
   "outputs": [],
   "source": [
    "path_pheno = paste0(wdir,\"/1_Phenos_tscore_DLPC_CMC_IncludingControl\")\n",
    "path_gwasresults = paste0(wdir,\"/2_GWASResults_tscore_DLPC_CMC_IncludingControl\")\n",
    "path_gwassumstats = paste0(wdir,\"/3_GWASSumStats_tscore_DLPC_CMC_IncludingControl\")\n",
    "path_manhattanqq = paste0(wdir,\"/4_ManhattanQQ_tscore_DLPC_CMC_IncludingControl\")\n",
    "path_locuszoom = paste0(wdir,\"/5_Locuszoom_tscore_DLPC_CMC_IncludingControl\")\n",
    "path_topsnps = paste0(wdir,\"/6_TopSNPsinAllPheno_tscore_DLPC_CMC_IncludingControl\")\n",
    "path_ldsc = paste0(wdir,\"/7_LDSC_tscore_DLPC_CMC_IncludingControl\")\n",
    "path_gc = paste0(wdir,\"/8_GeneticCorrelation_tscore_DLPC_CMC_IncludingControl\")"
   ]
  },
  {
   "cell_type": "code",
   "execution_count": 2,
   "metadata": {},
   "outputs": [],
   "source": [
    "data = read.delim(paste0(path_lh,\"/Merged_LifetimeMDD_IncludingControls.txt\"))"
   ]
  },
  {
   "cell_type": "code",
   "execution_count": 3,
   "metadata": {},
   "outputs": [
    {
     "data": {
      "text/plain": [
       "\n",
       "     1      2      3   <NA> \n",
       "  7225   3819   3943 319646 "
      ]
     },
     "metadata": {},
     "output_type": "display_data"
    }
   ],
   "source": [
    "table(data$tscore_DLPC_CMC,useNA=\"always\")"
   ]
  },
  {
   "cell_type": "markdown",
   "metadata": {},
   "source": [
    "# Prepare pheno data"
   ]
  },
  {
   "cell_type": "markdown",
   "metadata": {},
   "source": [
    "- Create columns: 1vsRest, 2vsRest, 3vsRest. Replace all NAs as 0."
   ]
  },
  {
   "cell_type": "code",
   "execution_count": 14,
   "metadata": {},
   "outputs": [],
   "source": [
    "data$tscore_DLPC_CMC_1vsRest = data$tscore_DLPC_CMC\n",
    "data$tscore_DLPC_CMC_1vsRest[data$tscore_DLPC_CMC_1vsRest!=1]=0\n",
    "data$tscore_DLPC_CMC_1vsRest[is.na(data$tscore_DLPC_CMC_1vsRest)]=0\n",
    "\n",
    "data$tscore_DLPC_CMC_2vsRest = data$tscore_DLPC_CMC\n",
    "data$tscore_DLPC_CMC_2vsRest[data$tscore_DLPC_CMC_2vsRest!=2]=0\n",
    "data$tscore_DLPC_CMC_2vsRest[data$tscore_DLPC_CMC_2vsRest==2]=1\n",
    "data$tscore_DLPC_CMC_2vsRest[is.na(data$tscore_DLPC_CMC_2vsRest)]=0\n",
    "\n",
    "data$tscore_DLPC_CMC_3vsRest = data$tscore_DLPC_CMC\n",
    "data$tscore_DLPC_CMC_3vsRest[data$tscore_DLPC_CMC_3vsRest!=3]=0\n",
    "data$tscore_DLPC_CMC_3vsRest[data$tscore_DLPC_CMC_3vsRest==3]=1\n",
    "data$tscore_DLPC_CMC_3vsRest[is.na(data$tscore_DLPC_CMC_3vsRest)]=0"
   ]
  },
  {
   "cell_type": "markdown",
   "metadata": {},
   "source": [
    "- Generate pheno tables"
   ]
  },
  {
   "cell_type": "code",
   "execution_count": 21,
   "metadata": {},
   "outputs": [
    {
     "name": "stdout",
     "output_type": "stream",
     "text": [
      "[1] \"1\"\n",
      "[1] \"2\"\n",
      "[1] \"3\"\n"
     ]
    }
   ],
   "source": [
    "clusters = c(\"tscore_DLPC_CMC_1vsRest\",\"tscore_DLPC_CMC_2vsRest\",\"tscore_DLPC_CMC_3vsRest\")\n",
    "for (c in clusters){\n",
    "    n = substr(c,17,17)\n",
    "    print(n)\n",
    "}"
   ]
  },
  {
   "cell_type": "code",
   "execution_count": 24,
   "metadata": {},
   "outputs": [],
   "source": [
    "clusters = c(\"tscore_DLPC_CMC_1vsRest\",\"tscore_DLPC_CMC_2vsRest\",\"tscore_DLPC_CMC_3vsRest\")\n",
    "for (c in clusters){\n",
    "    df = data %>% select(IID,c)\n",
    "    df$IID2 = df$IID\n",
    "    col_order = c(\"IID\",\"IID\",c)\n",
    "    df = df[, col_order]\n",
    "    n = substr(c,17,17)\n",
    "    write.table(df, file = paste0(path_pheno,\"/Pheno_\",n,\".txt\"), sep = \"\\t\", row.names = FALSE, col.names = FALSE)\n",
    "}"
   ]
  },
  {
   "cell_type": "markdown",
   "metadata": {},
   "source": [
    "- Generate prevalence tables"
   ]
  },
  {
   "cell_type": "code",
   "execution_count": 23,
   "metadata": {},
   "outputs": [
    {
     "name": "stdout",
     "output_type": "stream",
     "text": [
      "   Clusters N_Cases N_Controls  N_sum Prevalence\n",
      "1 C1vs.Rest    7225     327408 334633 0.02159082\n",
      "2 C2vs.Rest    3819     330814 334633 0.01141250\n",
      "3 C3vs.Rest    3943     330690 334633 0.01178306\n"
     ]
    }
   ],
   "source": [
    "Clusters = c(\"C1vs.Rest\",\"C2vs.Rest\",\"C3vs.Rest\")\n",
    "N_Cases = c(length(which(data$tscore_DLPC_CMC_1vsRest==1)),\n",
    "            length(which(data$tscore_DLPC_CMC_2vsRest==1)),\n",
    "            length(which(data$tscore_DLPC_CMC_3vsRest==1)))\n",
    "N_Controls = c(length(which(data$tscore_DLPC_CMC_1vsRest==0)),\n",
    "              length(which(data$tscore_DLPC_CMC_2vsRest==0)),\n",
    "              length(which(data$tscore_DLPC_CMC_3vsRest==0)))\n",
    "\n",
    "df = data.frame(Clusters,N_Cases,N_Controls)\n",
    "df$N_sum = rowSums(df[,2:3])\n",
    "df$Prevalence = df$N_Cases/df$N_sum\n",
    "\n",
    "print(df)\n",
    "\n",
    "write.table(df,paste0(path_pheno,\"/Prevalence_tscore_DLPC_CMC_IncludingControls.txt\"),sep=\"\\t\", row.names = FALSE, quote = FALSE)"
   ]
  },
  {
   "cell_type": "markdown",
   "metadata": {},
   "source": [
    "# Run GWAS (in bash)"
   ]
  },
  {
   "cell_type": "code",
   "execution_count": null,
   "metadata": {},
   "outputs": [],
   "source": [
    "# in bash\n",
    "wdir=\"/no-backup/lianyun/20201023_MDD_GenePathwayAssociation_Lucia/1_LifetimeMDD/12_tscore_DLPC_CMC_IncludingControl\"\n",
    "genodir=\"/projects/biobank/release3/genotypes\"\n",
    "phenodir=\"$wdir/1_Phenos_tscore_DLPC_CMC_IncludingControl\"\n",
    "phenos=$(echo \"1\" \"2\" \"3\")\n",
    "chromosomes=$(seq 1 22)\n",
    "covarfile=\"/no-backup/lianyun/biobank/symptomsgwas/pheno/allchr.unrelatedbritishqced.mafhwe.prunedld1.flashpca.20pcs.arrays.covar\" ## ID ID PCS1-20, ARRAY \n",
    "\n",
    "for p in $phenos\n",
    "do echo $p\n",
    "for chr in $chromosomes \n",
    "do echo $chr\n",
    "bfile=\"$genodir/ukb_imp_v3_chr$chr.unrelatedbritishqced.maf001geno9\"\n",
    "echo -e \"$wdir/2_GWASResults_tscore_DLPC_CMC_IncludingControl/chr$chr.cluster$p.covararraypcs.log: $pheno\\n\\t\\\n",
    "/home/hpc/lianyun.huang/softwares/plink/plink \\\n",
    "--bfile $bfile --pheno $phenodir/Pheno_$p.txt --logistic hide-covar --ci 0.95 --1 \\\n",
    "--covar $covarfile --allow-no-sex --memory 18000 \\\n",
    "--out $wdir/2_GWASResults_tscore_DLPC_CMC_IncludingControl/chr$chr.cluster$p.covararraypcs; \\\n",
    "touch $wdir/2_GWASResults_tscore_DLPC_CMC_IncludingControl/chr$chr.cluster$p.covararraypcs.log\">>$wdir/runGWAS\n",
    "echo -e \"$wdir/2_GWASResults_tscore_DLPC_CMC_IncludingControl/chr$chr.cluster$p.covararraypcs.log\">>$wdir/all_runGWAS\n",
    "done\n",
    "done\n",
    "\n",
    "python /home/hpc/lianyun.huang/softwares/make_all_files.py -i $wdir/all_runGWAS -o $wdir/all_runGWAS.sh \n",
    "cat $wdir/runGWAS $wdir/all_runGWAS.sh > $wdir/runGWAS.sh \n",
    "make --file=$wdir/runGWAS.sh all -d -j 20"
   ]
  },
  {
   "cell_type": "code",
   "execution_count": null,
   "metadata": {},
   "outputs": [],
   "source": []
  },
  {
   "cell_type": "code",
   "execution_count": null,
   "metadata": {},
   "outputs": [],
   "source": []
  }
 ],
 "metadata": {
  "kernelspec": {
   "display_name": "R",
   "language": "R",
   "name": "ir"
  },
  "language_info": {
   "codemirror_mode": "r",
   "file_extension": ".r",
   "mimetype": "text/x-r-source",
   "name": "R",
   "pygments_lexer": "r",
   "version": "3.6.3"
  }
 },
 "nbformat": 4,
 "nbformat_minor": 4
}
